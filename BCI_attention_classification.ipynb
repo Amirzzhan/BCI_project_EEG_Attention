{
  "metadata": {
    "kernelspec": {
      "language": "python",
      "display_name": "Python 3",
      "name": "python3"
    },
    "language_info": {
      "name": "python",
      "version": "3.10.14",
      "mimetype": "text/x-python",
      "codemirror_mode": {
        "name": "ipython",
        "version": 3
      },
      "pygments_lexer": "ipython3",
      "nbconvert_exporter": "python",
      "file_extension": ".py"
    },
    "kaggle": {
      "accelerator": "none",
      "dataSources": [
        {
          "sourceId": 365400,
          "sourceType": "datasetVersion",
          "datasetId": 159484
        }
      ],
      "dockerImageVersionId": 30787,
      "isInternetEnabled": true,
      "language": "python",
      "sourceType": "notebook",
      "isGpuEnabled": false
    },
    "colab": {
      "provenance": []
    }
  },
  "nbformat_minor": 0,
  "nbformat": 4,
  "cells": [
    {
      "cell_type": "markdown",
      "source": [
        "# Imports"
      ],
      "metadata": {
        "id": "bkLXO6UPp34A"
      }
    },
    {
      "cell_type": "code",
      "source": [
        "from mpl_toolkits.mplot3d import Axes3D\n",
        "from sklearn.preprocessing import StandardScaler\n",
        "from scipy.io import loadmat\n",
        "import matplotlib.pyplot as plt\n",
        "import numpy as np\n",
        "import os\n",
        "import pandas as pd\n",
        "from scipy.stats import mode\n",
        "\n",
        "from sklearn.metrics import confusion_matrix, classification_report\n",
        "import seaborn as sns\n",
        "from scipy.signal import butter, lfilter\n",
        "import numpy as np\n",
        "\n",
        "\n"
      ],
      "metadata": {
        "_uuid": "8f2839f25d086af736a60e9eeb907d3b93b6e0e5",
        "_cell_guid": "b1076dfc-b9ad-4769-8c92-a6c4dae69d19",
        "trusted": true,
        "execution": {
          "iopub.status.busy": "2025-04-22T03:25:01.787714Z",
          "iopub.execute_input": "2025-04-22T03:25:01.788043Z",
          "iopub.status.idle": "2025-04-22T03:25:03.109318Z",
          "shell.execute_reply.started": "2025-04-22T03:25:01.788014Z",
          "shell.execute_reply": "2025-04-22T03:25:03.108660Z"
        },
        "id": "I1dz1vhZp34C"
      },
      "outputs": [],
      "execution_count": null
    },
    {
      "cell_type": "markdown",
      "source": [
        "# Data labeling"
      ],
      "metadata": {
        "id": "sazdTZ9Hp34E"
      }
    },
    {
      "cell_type": "code",
      "source": [
        "columns = [\n",
        "    'ED_COUNTER',    'ED_INTERPOLATED',    'ED_RAW_CQ',    'ED_AF3',    'ED_F7',\n",
        "    'ED_F3',    'ED_FC5',    'ED_T7',    'ED_P7',    'ED_O1',\n",
        "    'ED_O2',    'ED_P8',    'ED_T8',    'ED_FC6',    'ED_F4',\n",
        "    'ED_F8',    'ED_AF4',    'ED_GYROX',    'ED_GYROY',    'ED_TIMESTAMP',\n",
        "    'ED_ES_TIMESTAMP',    'ED_FUNC_ID',    'ED_FUNC_VALUE',    'ED_MARKER',    'ED_SYNC_SIGNAL'\n",
        "]"
      ],
      "metadata": {
        "trusted": true,
        "execution": {
          "iopub.status.busy": "2025-04-22T03:25:05.850372Z",
          "iopub.execute_input": "2025-04-22T03:25:05.850826Z",
          "iopub.status.idle": "2025-04-22T03:25:05.855319Z",
          "shell.execute_reply.started": "2025-04-22T03:25:05.850797Z",
          "shell.execute_reply": "2025-04-22T03:25:05.854522Z"
        },
        "id": "70K7pOjVp34E"
      },
      "outputs": [],
      "execution_count": null
    },
    {
      "cell_type": "code",
      "source": [
        "FOCUSED_ID = 0\n",
        "UNFOCUSED_ID = 1\n",
        "DROWSY_ID = 2\n",
        "\n",
        "def get_state(timestamp):\n",
        "    if timestamp <= 10*128*60:\n",
        "        return FOCUSED_ID\n",
        "    elif timestamp > 20*128*60:\n",
        "        return UNFOCUSED_ID\n",
        "    else:\n",
        "        return DROWSY_ID"
      ],
      "metadata": {
        "trusted": true,
        "execution": {
          "iopub.status.busy": "2025-04-22T03:25:07.717846Z",
          "iopub.execute_input": "2025-04-22T03:25:07.718518Z",
          "iopub.status.idle": "2025-04-22T03:25:07.723526Z",
          "shell.execute_reply.started": "2025-04-22T03:25:07.718482Z",
          "shell.execute_reply": "2025-04-22T03:25:07.722433Z"
        },
        "id": "m8VtiDCpp34E"
      },
      "outputs": [],
      "execution_count": null
    },
    {
      "cell_type": "markdown",
      "source": [
        "# Data preprocessing"
      ],
      "metadata": {
        "id": "0kACJaWJp34E"
      }
    },
    {
      "cell_type": "code",
      "source": [
        "def bandpass_filter(data, low_freq, high_freq, fs, order=4):\n",
        "    nyquist = 0.5 * fs\n",
        "    low = low_freq / nyquist\n",
        "    high = high_freq / nyquist\n",
        "    b, a = butter(order, [low, high], btype='band')\n",
        "    return lfilter(b, a, data)\n",
        "\n",
        "def visualize_filters(original_data, filtered_signals, fs, channel_idx=0, duration=2):\n",
        "    \"\"\"\n",
        "    Visualize original and filtered signals\n",
        "\n",
        "    Parameters:\n",
        "    - original_data: Original EEG data\n",
        "    - filtered_signals: Dictionary containing filtered signals for each frequency band\n",
        "    - fs: Sampling frequency\n",
        "    - channel_idx: Channel index to visualize\n",
        "    - duration: Duration in seconds to visualize\n",
        "    \"\"\"\n",
        "    # Calculate time axis\n",
        "    n_samples = min(int(duration * fs), original_data.shape[0])\n",
        "    time = np.arange(n_samples) / fs\n",
        "\n",
        "    # Create figure\n",
        "    plt.figure(figsize=(12, 10))\n",
        "    gs = GridSpec(5, 1, height_ratios=[1, 1, 1, 1, 1])\n",
        "\n",
        "    # Plot original signal\n",
        "    ax0 = plt.subplot(gs[0])\n",
        "    ax0.plot(time, original_data[:n_samples, channel_idx], 'k', label='Original')\n",
        "    ax0.set_title(f'Original EEG Signal (Channel {channel_idx})')\n",
        "    ax0.set_ylabel('Amplitude')\n",
        "    ax0.legend()\n",
        "    ax0.grid(True)\n",
        "\n",
        "    # Plot filtered signals\n",
        "    wave_colors = {\n",
        "        'Delta': 'b',\n",
        "        'Theta': 'g',\n",
        "        'Alpha': 'r',\n",
        "        'Beta': 'purple'\n",
        "    }\n",
        "\n",
        "    for i, (wave, (low, high)) in enumerate(brainwave_ranges.items()):\n",
        "        ax = plt.subplot(gs[i+1], sharex=ax0)\n",
        "        ax.plot(time, filtered_signals[wave][:n_samples, channel_idx], color=wave_colors[wave], label=f'{wave} ({low}-{high} Hz)')\n",
        "        ax.set_title(f'{wave} Band ({low}-{high} Hz)')\n",
        "        ax.set_ylabel('Amplitude')\n",
        "        ax.legend()\n",
        "        ax.grid(True)\n",
        "\n",
        "    ax.set_xlabel('Time (s)')\n",
        "    plt.tight_layout()\n",
        "    plt.show()\n",
        "\n",
        "# Function to plot frequency spectrum\n",
        "def plot_frequency_spectrum(original_data, filtered_signals, fs, channel_idx=0):\n",
        "    \"\"\"\n",
        "    Plot frequency spectrum of original and filtered signals\n",
        "\n",
        "    Parameters:\n",
        "    - original_data: Original EEG data\n",
        "    - filtered_signals: Dictionary containing filtered signals for each frequency band\n",
        "    - fs: Sampling frequency\n",
        "    - channel_idx: Channel index to visualize\n",
        "    \"\"\"\n",
        "    plt.figure(figsize=(12, 10))\n",
        "\n",
        "    # Calculate frequency spectrum of original signal\n",
        "    signal = original_data[:, channel_idx]\n",
        "    n = len(signal)\n",
        "    fft_vals = np.abs(np.fft.rfft(signal))\n",
        "    fft_freq = np.fft.rfftfreq(n, 1.0/fs)\n",
        "\n",
        "    # Plot original spectrum\n",
        "    plt.subplot(5, 1, 1)\n",
        "    plt.plot(fft_freq, fft_vals, 'k')\n",
        "    plt.title(f'Frequency Spectrum - Original Signal (Channel {channel_idx})')\n",
        "    plt.ylabel('Magnitude')\n",
        "    plt.xlim(0, 50)  # Limit x-axis to 0-50 Hz for better visualization\n",
        "    plt.grid(True)\n",
        "\n",
        "    # Plot filtered spectrums\n",
        "    wave_colors = {\n",
        "        'Delta': 'b',\n",
        "        'Theta': 'g',\n",
        "        'Alpha': 'r',\n",
        "        'Beta': 'purple'\n",
        "    }\n",
        "\n",
        "    for i, (wave, (low, high)) in enumerate(brainwave_ranges.items()):\n",
        "        signal = filtered_signals[wave][:, channel_idx]\n",
        "        fft_vals = np.abs(np.fft.rfft(signal))\n",
        "\n",
        "        plt.subplot(5, 1, i+2)\n",
        "        plt.plot(fft_freq, fft_vals, color=wave_colors[wave])\n",
        "        plt.title(f'Frequency Spectrum - {wave} Band ({low}-{high} Hz)')\n",
        "        plt.ylabel('Magnitude')\n",
        "        plt.xlim(0, 50)\n",
        "        # Add vertical lines showing the bandpass range\n",
        "        plt.axvline(x=low, color='grey', linestyle='--', alpha=0.7)\n",
        "        plt.axvline(x=high, color='grey', linestyle='--', alpha=0.7)\n",
        "        plt.grid(True)\n",
        "\n",
        "    plt.xlabel('Frequency (Hz)')\n",
        "    plt.tight_layout()\n",
        "    plt.show()\n",
        "\n",
        "\n",
        "brainwave_ranges = {\n",
        "    \"Delta\": (0.5, 4),\n",
        "    \"Theta\": (4, 8),\n",
        "    \"Alpha\": (8, 13),\n",
        "    \"Beta\": (13, 30)\n",
        "}\n",
        "\n",
        "features = []\n",
        "delta_features = []\n",
        "theta_features = []\n",
        "alpha_features = []\n",
        "beta_features = []\n",
        "labels = []\n",
        "SAMPLE_LENGTH_SECOND = 4\n",
        "FREQUENCY_HZ = 128\n",
        "SAMPLE_LENGTH_HZ = FREQUENCY_HZ * SAMPLE_LENGTH_SECOND\n",
        "scaler = StandardScaler(with_mean=True, with_std=True)\n",
        "\n",
        "visualized = False\n",
        "for i in [3,4,5,6,7,10,11,12,13,14,17,18,19,20,21,24,25,26,27,31,32,33,34]:\n",
        "    print(f\"Extracting file {i}\")\n",
        "    mat_data = loadmat(f'/kaggle/input/eeg-data-for-mental-attention-state-detection/EEG Data/eeg_record{i}.mat')\n",
        "    data = mat_data['o'][0][0]['data']\n",
        "    eeg_df = pd.DataFrame(data, columns=columns)\n",
        "    eeg_df.reset_index(inplace=True)\n",
        "    eeg_df.rename(columns={'index': 'timestamp'}, inplace=True)\n",
        "    eeg_df['state'] = eeg_df['timestamp'].apply(get_state)\n",
        "\n",
        "    # df_selected = eeg_df[['ED_AF3', 'ED_AF4', 'ED_F3', 'ED_F4', 'state']]\n",
        "\n",
        "    # Extract some of them\n",
        "    # feature = df_selected[['ED_AF3', 'ED_AF4', 'ED_F3', 'ED_F4']].values  # Columns 4 to 17 (0-indexed)\n",
        "    # label = df_selected['state'].values\n",
        "\n",
        "    feature = eeg_df.iloc[:, 4:18].values  # Columns 4 to 17 (0-indexed)\n",
        "    label = eeg_df['state'].values\n",
        "\n",
        "\n",
        "    feature = scaler.fit_transform(feature)\n",
        "\n",
        "\n",
        "    brainwave_features = {}\n",
        "    for wave, (low, high) in brainwave_ranges.items():\n",
        "        filtered = np.apply_along_axis(\n",
        "            bandpass_filter, 0, feature, low, high, FREQUENCY_HZ\n",
        "        )\n",
        "        brainwave_features[wave] = filtered  # Do not scale these\n",
        "\n",
        "    if not visualized:\n",
        "        print(f\"Generating visualization for file {i}\")\n",
        "        # Choose a channel to visualize (0-13, corresponding to the 14 EEG channels)\n",
        "        channel_to_visualize = 0  # First channel (ED_AF3)\n",
        "\n",
        "        # Visualize time domain signals\n",
        "        visualize_filters(feature, brainwave_features, FREQUENCY_HZ,\n",
        "                         channel_idx=channel_to_visualize, duration=2)\n",
        "\n",
        "        # Visualize frequency domain\n",
        "        plot_frequency_spectrum(feature, brainwave_features, FREQUENCY_HZ,\n",
        "                               channel_idx=channel_to_visualize)\n",
        "\n",
        "        # Create a 3D visualization to show all channels and filtered signals\n",
        "        plt.figure(figsize=(15, 10))\n",
        "        # Get a subset of data for visualization\n",
        "        time_segment = slice(0, int(FREQUENCY_HZ * 2))  # 2 seconds of data\n",
        "\n",
        "        # Plot heatmaps showing all channels before and after filtering\n",
        "        plt.subplot(2, 2, 1)\n",
        "        plt.imshow(feature[time_segment, :].T, aspect='auto', cmap='viridis')\n",
        "        plt.title('Original Signal - All Channels')\n",
        "        plt.xlabel('Time (samples)')\n",
        "        plt.ylabel('Channel')\n",
        "        plt.colorbar(label='Amplitude')\n",
        "\n",
        "        # Plot the filtered heatmaps\n",
        "        positions = [(2, 2, 2), (2, 2, 3), (2, 2, 4)]\n",
        "        for (wave, filtered_data), pos in zip(brainwave_features.items(), positions):\n",
        "            plt.subplot(*pos)\n",
        "            plt.imshow(filtered_data[time_segment, :].T, aspect='auto', cmap='viridis')\n",
        "            plt.title(f'{wave} Filtered Signal - All Channels')\n",
        "            plt.xlabel('Time (samples)')\n",
        "            plt.ylabel('Channel')\n",
        "            plt.colorbar(label='Amplitude')\n",
        "\n",
        "        plt.tight_layout()\n",
        "        plt.show()\n",
        "\n",
        "        print(\"Visualization complete!\")\n",
        "        visualized = True\n",
        "\n",
        "    num_samples = len(feature) // SAMPLE_LENGTH_HZ\n",
        "    feature = feature[:num_samples * SAMPLE_LENGTH_HZ]\n",
        "    label = label[:num_samples * SAMPLE_LENGTH_HZ]\n",
        "\n",
        "    feature = feature.reshape(num_samples, SAMPLE_LENGTH_HZ, 14, 1)\n",
        "    label = label.reshape(num_samples, SAMPLE_LENGTH_HZ)\n",
        "    consensus_labels = mode(label, axis=1)[0].flatten()\n",
        "\n",
        "    features.append(feature)\n",
        "    labels.append(consensus_labels)\n",
        "\n",
        "    for wave in brainwave_ranges.keys():\n",
        "        brainwave_feature = brainwave_features[wave][:num_samples * SAMPLE_LENGTH_HZ]\n",
        "        brainwave_feature = brainwave_feature.reshape(num_samples, SAMPLE_LENGTH_HZ, 14, 1)\n",
        "        if wave == \"Delta\":\n",
        "            delta_features.append(brainwave_feature)\n",
        "        elif wave == \"Theta\":\n",
        "            theta_features.append(brainwave_feature)\n",
        "        elif wave == \"Alpha\":\n",
        "            alpha_features.append(brainwave_feature)\n",
        "        elif wave == \"Beta\":\n",
        "            beta_features.append(brainwave_feature)\n",
        "\n",
        "\n",
        "features = np.vstack(features)\n",
        "delta_features = np.vstack(delta_features)\n",
        "theta_features = np.vstack(theta_features)\n",
        "alpha_features = np.vstack(alpha_features)\n",
        "beta_features = np.vstack(beta_features)\n",
        "labels = np.concatenate(labels)\n",
        "\n",
        "print(f\"Delta Features Shape: {delta_features.shape}\")\n",
        "print(f\"Theta Features Shape: {theta_features.shape}\")\n",
        "print(f\"Alpha Features Shape: {alpha_features.shape}\")\n",
        "print(f\"Beta Features Shape: {beta_features.shape}\")\n",
        "print(f\"Final Labels Shape: {labels.shape}\")\n"
      ],
      "metadata": {
        "trusted": true,
        "execution": {
          "iopub.status.busy": "2025-04-22T03:25:20.797969Z",
          "iopub.execute_input": "2025-04-22T03:25:20.798324Z",
          "iopub.status.idle": "2025-04-22T03:25:45.776425Z",
          "shell.execute_reply.started": "2025-04-22T03:25:20.798294Z",
          "shell.execute_reply": "2025-04-22T03:25:45.775418Z"
        },
        "id": "p0Ip0Ji3p34F"
      },
      "outputs": [],
      "execution_count": null
    },
    {
      "cell_type": "markdown",
      "source": [
        "# Data classes distribution"
      ],
      "metadata": {
        "id": "WlO03kwbp34F"
      }
    },
    {
      "cell_type": "code",
      "source": [
        "import numpy as np\n",
        "\n",
        "\n",
        "unique_classes, class_counts = np.unique(labels, return_counts=True)\n",
        "\n",
        "for cls, count in zip(unique_classes, class_counts):\n",
        "    print(f\"Class {cls}: {count} samples\")\n"
      ],
      "metadata": {
        "trusted": true,
        "execution": {
          "iopub.status.busy": "2025-04-22T03:25:48.548676Z",
          "iopub.execute_input": "2025-04-22T03:25:48.549316Z",
          "iopub.status.idle": "2025-04-22T03:25:48.554926Z",
          "shell.execute_reply.started": "2025-04-22T03:25:48.549285Z",
          "shell.execute_reply": "2025-04-22T03:25:48.553912Z"
        },
        "id": "kfQC2Mddp34F"
      },
      "outputs": [],
      "execution_count": null
    },
    {
      "cell_type": "code",
      "source": [
        "eeg_df"
      ],
      "metadata": {
        "trusted": true,
        "execution": {
          "iopub.status.busy": "2025-04-22T03:25:50.936531Z",
          "iopub.execute_input": "2025-04-22T03:25:50.937152Z",
          "iopub.status.idle": "2025-04-22T03:25:51.033696Z",
          "shell.execute_reply.started": "2025-04-22T03:25:50.937100Z",
          "shell.execute_reply": "2025-04-22T03:25:51.032651Z"
        },
        "id": "NAPZzpsep34G"
      },
      "outputs": [],
      "execution_count": null
    },
    {
      "cell_type": "markdown",
      "source": [
        "## Model SVM without class balancing"
      ],
      "metadata": {
        "id": "MakFIl5pp34G"
      }
    },
    {
      "cell_type": "code",
      "source": [
        "import numpy as np\n",
        "from sklearn.svm import SVC\n",
        "from sklearn.model_selection import train_test_split\n",
        "from sklearn.metrics import classification_report\n",
        "from sklearn.metrics import confusion_matrix\n",
        "\n",
        "\n",
        "X_unbalanced = features\n",
        "y_unbalanced = labels\n",
        "\n",
        "X_flattened_unbalanced = X_unbalanced.reshape(X_unbalanced.shape[0], -1)\n",
        "\n",
        "X_train_unbalanced, X_test_unbalanced, y_train_unbalanced, y_test_unbalanced = train_test_split(X_flattened_unbalanced, y_unbalanced, test_size=0.2, random_state=42)"
      ],
      "metadata": {
        "trusted": true,
        "execution": {
          "iopub.status.busy": "2025-04-22T03:26:01.464022Z",
          "iopub.execute_input": "2025-04-22T03:26:01.464641Z",
          "iopub.status.idle": "2025-04-22T03:26:02.212433Z",
          "shell.execute_reply.started": "2025-04-22T03:26:01.464585Z",
          "shell.execute_reply": "2025-04-22T03:26:02.211278Z"
        },
        "id": "h8OM4Ey_p34G"
      },
      "outputs": [],
      "execution_count": null
    },
    {
      "cell_type": "code",
      "source": [
        "from sklearn.decomposition import PCA\n",
        "pca = PCA(n_components=0.95)\n",
        "X_train_pca_unbalanced = pca.fit_transform(X_train_unbalanced)\n",
        "X_test_pca_unbalanced = pca.transform(X_test_unbalanced)"
      ],
      "metadata": {
        "trusted": true,
        "execution": {
          "iopub.status.busy": "2025-04-22T03:26:05.108267Z",
          "iopub.execute_input": "2025-04-22T03:26:05.108617Z",
          "iopub.status.idle": "2025-04-22T03:29:05.188700Z",
          "shell.execute_reply.started": "2025-04-22T03:26:05.108572Z",
          "shell.execute_reply": "2025-04-22T03:29:05.187382Z"
        },
        "id": "1IVyatnap34H"
      },
      "outputs": [],
      "execution_count": null
    },
    {
      "cell_type": "code",
      "source": [
        "print(X_train_pca_unbalanced.shape)\n",
        "print(X_test_pca_unbalanced.shape)"
      ],
      "metadata": {
        "trusted": true,
        "execution": {
          "iopub.status.busy": "2025-04-22T03:29:19.947324Z",
          "iopub.execute_input": "2025-04-22T03:29:19.947973Z",
          "iopub.status.idle": "2025-04-22T03:29:19.952714Z",
          "shell.execute_reply.started": "2025-04-22T03:29:19.947934Z",
          "shell.execute_reply": "2025-04-22T03:29:19.951778Z"
        },
        "id": "e-7XWJfGp34H"
      },
      "outputs": [],
      "execution_count": null
    },
    {
      "cell_type": "code",
      "source": [
        "\n",
        "svm_model_unbalanced_rbf = SVC(kernel='rbf', probability=True)\n",
        "svm_model_unbalanced_rbf.fit(X_train_pca_unbalanced, y_train_unbalanced)"
      ],
      "metadata": {
        "trusted": true,
        "execution": {
          "iopub.status.busy": "2025-04-22T03:29:25.369965Z",
          "iopub.execute_input": "2025-04-22T03:29:25.370286Z",
          "iopub.status.idle": "2025-04-22T03:42:19.256970Z",
          "shell.execute_reply.started": "2025-04-22T03:29:25.370257Z",
          "shell.execute_reply": "2025-04-22T03:42:19.256121Z"
        },
        "id": "IQXKci2_p34H"
      },
      "outputs": [],
      "execution_count": null
    },
    {
      "cell_type": "code",
      "source": [
        "\n",
        "y_pred_unbalanced = svm_model_unbalanced_rbf.predict(X_test_pca_unbalanced)\n",
        "\n"
      ],
      "metadata": {
        "trusted": true,
        "execution": {
          "iopub.status.busy": "2025-04-22T03:43:55.098378Z",
          "iopub.execute_input": "2025-04-22T03:43:55.099197Z",
          "iopub.status.idle": "2025-04-22T03:44:42.280167Z",
          "shell.execute_reply.started": "2025-04-22T03:43:55.099163Z",
          "shell.execute_reply": "2025-04-22T03:44:42.279449Z"
        },
        "id": "zkD3XegAp34H"
      },
      "outputs": [],
      "execution_count": null
    },
    {
      "cell_type": "code",
      "source": [
        "# Display the classification report\n",
        "print(\"Classification Report:\")\n",
        "print(classification_report(y_test_unbalanced, y_pred_unbalanced))\n"
      ],
      "metadata": {
        "trusted": true,
        "execution": {
          "iopub.status.busy": "2025-04-22T03:44:48.270439Z",
          "iopub.execute_input": "2025-04-22T03:44:48.270783Z",
          "iopub.status.idle": "2025-04-22T03:44:48.289370Z",
          "shell.execute_reply.started": "2025-04-22T03:44:48.270753Z",
          "shell.execute_reply": "2025-04-22T03:44:48.288145Z"
        },
        "id": "mscqsDrpp34H"
      },
      "outputs": [],
      "execution_count": null
    },
    {
      "cell_type": "code",
      "source": [
        "import numpy as np\n",
        "import pandas as pd\n",
        "import seaborn as sns\n",
        "import matplotlib.pyplot as plt\n",
        "from sklearn.metrics import confusion_matrix\n",
        "\n",
        "\n",
        "cm =confusion_matrix(y_test_unbalanced, y_pred_unbalanced)\n",
        "\n",
        "class_sizes = {\n",
        "    0: 3450,  # Class 0 (Focused)\n",
        "    1: 10250, # Class 1 (Unfocused)\n",
        "    2: 3450   # Class 2 (Drowsy)\n",
        "}\n",
        "\n",
        "\n",
        "def normalize_cm_by_class_size(cm, class_sizes):\n",
        "    cm_normalized = cm.astype('float')\n",
        "    for i in range(cm.shape[0]):\n",
        "        cm_normalized[i] = cm[i] / class_sizes[i] * 100\n",
        "    return cm_normalized\n",
        "\n",
        "\n",
        "cm_normalized_by_class = normalize_cm_by_class_size(cm, class_sizes)\n",
        "\n",
        "\n",
        "class_names = ['Focused', 'Unfocused', 'Drowsy']\n",
        "predicted_class_names = ['Predicted Focused', 'Predicted Unfocused', 'Predicted Drowsy']\n",
        "\n",
        "cm_normalized_df = pd.DataFrame(cm_normalized_by_class, index=class_names, columns=predicted_class_names)\n",
        "\n",
        "cm_mean = cm_normalized_df.mean().mean()\n",
        "\n",
        "cmap = sns.diverging_palette(250, 10, as_cmap=True, s=100, l=50)\n",
        "\n",
        "plt.figure(figsize=(8, 6))\n",
        "sns.heatmap(cm_normalized_df, annot=True, cmap=\"Blues\", center=cm_mean, linewidths=0.5)\n",
        "plt.title('Confusion Matrix Normalized')\n",
        "plt.show()\n"
      ],
      "metadata": {
        "trusted": true,
        "execution": {
          "iopub.status.busy": "2025-04-22T03:45:29.069221Z",
          "iopub.execute_input": "2025-04-22T03:45:29.069905Z",
          "iopub.status.idle": "2025-04-22T03:45:29.403537Z",
          "shell.execute_reply.started": "2025-04-22T03:45:29.069872Z",
          "shell.execute_reply": "2025-04-22T03:45:29.402520Z"
        },
        "id": "Df1EUKeup34I"
      },
      "outputs": [],
      "execution_count": null
    },
    {
      "cell_type": "markdown",
      "source": [
        "## SVM balanced classes"
      ],
      "metadata": {
        "id": "KcAbCL3Cp34I"
      }
    },
    {
      "cell_type": "code",
      "source": [
        "X= features\n",
        "y= labels\n",
        "\n",
        "\n",
        "from sklearn.utils import shuffle\n",
        "focused_indices = np.where(y == 0)[0]\n",
        "unfocused_indices = np.where(y == 1)[0]\n",
        "drowsy_indices = np.where(y == 2)[0]\n",
        "\n",
        "num_drowsy_samples = len(drowsy_indices)\n",
        "\n",
        "unfocused_indices_undersampled = np.random.choice(unfocused_indices, num_drowsy_samples, replace=False)\n",
        "\n",
        "final_indices = np.concatenate([focused_indices, unfocused_indices_undersampled, drowsy_indices])\n",
        "\n",
        "final_indices = shuffle(final_indices, random_state=42)\n",
        "\n",
        "X_balanced = X[final_indices]\n",
        "y_balanced = y[final_indices]\n",
        "\n",
        "unique_classes, class_counts = np.unique(y_balanced, return_counts=True)\n",
        "for cls, count in zip(unique_classes, class_counts):\n",
        "    print(f\"Class {cls}: {count} samples\")\n",
        "\n",
        "\n"
      ],
      "metadata": {
        "trusted": true,
        "execution": {
          "iopub.status.busy": "2025-04-22T03:47:10.990401Z",
          "iopub.execute_input": "2025-04-22T03:47:10.990872Z",
          "iopub.status.idle": "2025-04-22T03:47:11.182054Z",
          "shell.execute_reply.started": "2025-04-22T03:47:10.990839Z",
          "shell.execute_reply": "2025-04-22T03:47:11.180851Z"
        },
        "id": "ItbcPS4Zp34I"
      },
      "outputs": [],
      "execution_count": null
    },
    {
      "cell_type": "code",
      "source": [
        "X_flattened_balanced = X_balanced.reshape(X_balanced.shape[0], -1)\n",
        "\n",
        "X_train_balanced, X_test_balanced, y_train_balanced, y_test_balanced = train_test_split(X_flattened_balanced, y_balanced, test_size=0.2, random_state=42)"
      ],
      "metadata": {
        "trusted": true,
        "execution": {
          "iopub.status.busy": "2025-04-22T03:47:18.968496Z",
          "iopub.execute_input": "2025-04-22T03:47:18.968812Z",
          "iopub.status.idle": "2025-04-22T03:47:19.350520Z",
          "shell.execute_reply.started": "2025-04-22T03:47:18.968785Z",
          "shell.execute_reply": "2025-04-22T03:47:19.349797Z"
        },
        "id": "FKsRPbwEp34I"
      },
      "outputs": [],
      "execution_count": null
    },
    {
      "cell_type": "code",
      "source": [
        "from sklearn.decomposition import PCA\n",
        "pca = PCA(n_components=0.95)\n",
        "X_train_pca_balanced = pca.fit_transform(X_train_balanced)\n",
        "X_test_pca_balanced = pca.transform(X_test_balanced)"
      ],
      "metadata": {
        "trusted": true,
        "execution": {
          "iopub.status.busy": "2025-04-22T03:47:25.988984Z",
          "iopub.execute_input": "2025-04-22T03:47:25.989315Z",
          "iopub.status.idle": "2025-04-22T03:49:51.537225Z",
          "shell.execute_reply.started": "2025-04-22T03:47:25.989286Z",
          "shell.execute_reply": "2025-04-22T03:49:51.535875Z"
        },
        "id": "fvlUQrP3p34I"
      },
      "outputs": [],
      "execution_count": null
    },
    {
      "cell_type": "code",
      "source": [
        "print(X_train_pca_balanced.shape)\n",
        "print(X_test_pca_balanced.shape)"
      ],
      "metadata": {
        "trusted": true,
        "execution": {
          "iopub.status.busy": "2025-04-22T03:52:17.526175Z",
          "iopub.execute_input": "2025-04-22T03:52:17.526909Z",
          "iopub.status.idle": "2025-04-22T03:52:17.531384Z",
          "shell.execute_reply.started": "2025-04-22T03:52:17.526875Z",
          "shell.execute_reply": "2025-04-22T03:52:17.530652Z"
        },
        "id": "u1yjGFSGp34J"
      },
      "outputs": [],
      "execution_count": null
    },
    {
      "cell_type": "code",
      "source": [
        "svm_model_balanced = SVC(kernel='rbf', probability=True)\n",
        "\n",
        "svm_model_balanced.fit(X_train_pca_balanced, y_train_balanced)"
      ],
      "metadata": {
        "trusted": true,
        "execution": {
          "iopub.status.busy": "2025-04-22T03:52:20.463895Z",
          "iopub.execute_input": "2025-04-22T03:52:20.464525Z",
          "iopub.status.idle": "2025-04-22T03:56:14.501329Z",
          "shell.execute_reply.started": "2025-04-22T03:52:20.464484Z",
          "shell.execute_reply": "2025-04-22T03:56:14.500414Z"
        },
        "id": "ZUDbNfOHp34J"
      },
      "outputs": [],
      "execution_count": null
    },
    {
      "cell_type": "code",
      "source": [
        "\n",
        "y_pred_balanced = svm_model_balanced.predict(X_test_pca_balanced)\n",
        "\n",
        "from sklearn.metrics import classification_report, confusion_matrix\n",
        "print(classification_report(y_test_balanced, y_pred_balanced))\n"
      ],
      "metadata": {
        "trusted": true,
        "execution": {
          "iopub.status.busy": "2025-04-22T03:56:22.903480Z",
          "iopub.execute_input": "2025-04-22T03:56:22.904094Z",
          "iopub.status.idle": "2025-04-22T03:56:40.151300Z",
          "shell.execute_reply.started": "2025-04-22T03:56:22.904064Z",
          "shell.execute_reply": "2025-04-22T03:56:40.150377Z"
        },
        "id": "7nVkHFPVp34J"
      },
      "outputs": [],
      "execution_count": null
    },
    {
      "cell_type": "code",
      "source": [
        "import numpy as np\n",
        "import pandas as pd\n",
        "import seaborn as sns\n",
        "import matplotlib.pyplot as plt\n",
        "from sklearn.metrics import confusion_matrix\n",
        "\n",
        "cm_balanced = confusion_matrix(y_test_balanced, y_pred_balanced)\n",
        "\n",
        "class_sizes_balanced = {\n",
        "    0: 3450,  # Class 0 (Focused)\n",
        "    1: 3450,  # Class 1 (Unfocused)\n",
        "    2: 3450   # Class 2 (Drowsy)\n",
        "}\n",
        "\n",
        "def normalize_cm_by_class_size(cm, class_sizes):\n",
        "    cm_normalized = cm.astype('float')  # Convert to float to avoid integer division\n",
        "    for i in range(cm.shape[0]):  # Loop over rows (classes)\n",
        "        cm_normalized[i] = cm[i] / class_sizes[i] * 100  # Convert to percentage\n",
        "    return cm_normalized\n",
        "\n",
        "cm_normalized_by_class_balanced = normalize_cm_by_class_size(cm_balanced, class_sizes_balanced)\n",
        "\n",
        "class_names = ['Focused', 'Unfocused', 'Drowsy']\n",
        "predicted_class_names = ['Predicted Focused', 'Predicted Unfocused', 'Predicted Drowsy']\n",
        "\n",
        "cm_normalized_df_balanced = pd.DataFrame(cm_normalized_by_class_balanced, index=class_names, columns=predicted_class_names)\n",
        "\n",
        "cm_mean_balanced = cm_normalized_df_balanced.mean().mean()\n",
        "\n",
        "cmap_balanced = sns.diverging_palette(250, 10, as_cmap=True, s=100, l=50)\n",
        "\n",
        "plt.figure(figsize=(8, 6))\n",
        "sns.heatmap(cm_normalized_df_balanced, annot=True, cmap=\"Blues\", center=cm_mean_balanced, linewidths=0.5)\n",
        "plt.title('Confusion Matrix Normalized for Balanced Data')\n",
        "plt.show()\n"
      ],
      "metadata": {
        "trusted": true,
        "execution": {
          "iopub.status.busy": "2025-04-22T03:57:30.684149Z",
          "iopub.execute_input": "2025-04-22T03:57:30.684479Z",
          "iopub.status.idle": "2025-04-22T03:57:30.901165Z",
          "shell.execute_reply.started": "2025-04-22T03:57:30.684451Z",
          "shell.execute_reply": "2025-04-22T03:57:30.900363Z"
        },
        "id": "HGK3xuSxp34J"
      },
      "outputs": [],
      "execution_count": null
    },
    {
      "cell_type": "code",
      "source": [
        "from sklearn.svm import SVC\n",
        "from sklearn.metrics import classification_report, confusion_matrix"
      ],
      "metadata": {
        "trusted": true,
        "execution": {
          "iopub.status.busy": "2025-04-07T05:04:53.641731Z",
          "iopub.execute_input": "2025-04-07T05:04:53.642058Z",
          "iopub.status.idle": "2025-04-07T05:04:53.646247Z",
          "shell.execute_reply.started": "2025-04-07T05:04:53.642029Z",
          "shell.execute_reply": "2025-04-07T05:04:53.645303Z"
        },
        "id": "Tpt4_rRop34J"
      },
      "outputs": [],
      "execution_count": null
    },
    {
      "cell_type": "markdown",
      "source": [
        "## SVM optimized C=10"
      ],
      "metadata": {
        "id": "ZvJIiLkMp34K"
      }
    },
    {
      "cell_type": "code",
      "source": [
        "print(X_train_pca_balanced.shape, y_train_balanced.shape, X_test_pca_balanced.shape, y_test_balanced.shape)"
      ],
      "metadata": {
        "trusted": true,
        "execution": {
          "iopub.status.busy": "2025-04-22T00:58:33.623357Z",
          "iopub.execute_input": "2025-04-22T00:58:33.624247Z",
          "iopub.status.idle": "2025-04-22T00:58:33.628646Z",
          "shell.execute_reply.started": "2025-04-22T00:58:33.624213Z",
          "shell.execute_reply": "2025-04-22T00:58:33.627787Z"
        },
        "id": "X1wbO_csp34K"
      },
      "outputs": [],
      "execution_count": null
    },
    {
      "cell_type": "code",
      "source": [
        "svm_model_c1 = SVC(kernel='linear', C=0.5)  # C=10 is the regularization parameter\n",
        "\n",
        "svm_model_c1.fit(X_train_pca_balanced, y_train_balanced)"
      ],
      "metadata": {
        "trusted": true,
        "execution": {
          "iopub.status.busy": "2025-04-22T04:06:47.962973Z",
          "iopub.execute_input": "2025-04-22T04:06:47.963317Z",
          "execution_failed": "2025-04-22T05:11:17.955Z"
        },
        "id": "Zgf5ucXWp34K"
      },
      "outputs": [],
      "execution_count": null
    },
    {
      "cell_type": "code",
      "source": [
        "\n",
        "y_pred_c1 = svm_model_c1.predict(X_test_pca_balanced)"
      ],
      "metadata": {
        "trusted": true,
        "execution": {
          "iopub.status.busy": "2025-04-22T04:05:34.799348Z",
          "iopub.execute_input": "2025-04-22T04:05:34.800065Z",
          "iopub.status.idle": "2025-04-22T04:05:43.092417Z",
          "shell.execute_reply.started": "2025-04-22T04:05:34.800033Z",
          "shell.execute_reply": "2025-04-22T04:05:43.091673Z"
        },
        "id": "8tUPsFvNp34K"
      },
      "outputs": [],
      "execution_count": null
    },
    {
      "cell_type": "code",
      "source": [
        "\n",
        "\n",
        "print(\"Classification Report for SVM on Balanced Data:\")\n",
        "print(classification_report(y_test_balanced, y_pred_c1))\n",
        "\n",
        "\n"
      ],
      "metadata": {
        "trusted": true,
        "execution": {
          "iopub.status.busy": "2025-04-22T04:05:45.441651Z",
          "iopub.execute_input": "2025-04-22T04:05:45.441959Z",
          "iopub.status.idle": "2025-04-22T04:05:45.456443Z",
          "shell.execute_reply.started": "2025-04-22T04:05:45.441934Z",
          "shell.execute_reply": "2025-04-22T04:05:45.455474Z"
        },
        "id": "_t6KO-pwp34K"
      },
      "outputs": [],
      "execution_count": null
    },
    {
      "cell_type": "markdown",
      "source": [
        "## LDA balanced data"
      ],
      "metadata": {
        "id": "5ksdiFupp34L"
      }
    },
    {
      "cell_type": "code",
      "source": [],
      "metadata": {
        "trusted": true,
        "id": "m2MrBSFEp34L"
      },
      "outputs": [],
      "execution_count": null
    }
  ]
}